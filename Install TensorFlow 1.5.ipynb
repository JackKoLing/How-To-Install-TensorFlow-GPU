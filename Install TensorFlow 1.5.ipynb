{
 "cells": [
  {
   "cell_type": "markdown",
   "metadata": {
    "collapsed": true,
    "slideshow": {
     "slide_type": "slide"
    }
   },
   "source": [
    "# TensorFlow 1.5\n",
    "\n",
    "### <i>A quick overview on how to install or update</i>"
   ]
  },
  {
   "cell_type": "markdown",
   "metadata": {
    "slideshow": {
     "slide_type": "slide"
    }
   },
   "source": [
    "# What's New?\n",
    "\n",
    "- support for CUDA Toolkit 9.0\n",
    "- CUDNN 7\n",
    "- Read more here https://github.com/tensorflow/tensorflow/releases"
   ]
  },
  {
   "cell_type": "markdown",
   "metadata": {
    "slideshow": {
     "slide_type": "slide"
    }
   },
   "source": [
    "# Install Overview\n",
    "\n",
    "- Download and install CUDA Toolkit 9.0 https://developer.nvidia.com/cuda-90-download-archive\n",
    "    Warning: Do not install CUDA Toolkit 9.1! (it won't work)\n",
    "- Download and install CUDNN 7.0.5 https://developer.nvidia.com/rdp/cudnn-download\n",
    "- Download and install TensorFlow 1.5 wheel https://pypi.python.org/pypi/tensorflow-gpu"
   ]
  }
 ],
 "metadata": {
  "celltoolbar": "Slideshow",
  "kernelspec": {
   "display_name": "Python [default]",
   "language": "python",
   "name": "python3"
  },
  "language_info": {
   "codemirror_mode": {
    "name": "ipython",
    "version": 3
   },
   "file_extension": ".py",
   "mimetype": "text/x-python",
   "name": "python",
   "nbconvert_exporter": "python",
   "pygments_lexer": "ipython3",
   "version": "3.5.4"
  }
 },
 "nbformat": 4,
 "nbformat_minor": 2
}
