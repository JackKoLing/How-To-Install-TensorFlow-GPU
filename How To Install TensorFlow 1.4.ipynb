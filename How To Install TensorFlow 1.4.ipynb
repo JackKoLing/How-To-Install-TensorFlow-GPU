{
 "cells": [
  {
   "cell_type": "markdown",
   "metadata": {
    "collapsed": true,
    "slideshow": {
     "slide_type": "slide"
    }
   },
   "source": [
    "# HOW TO INSTALL TENSORFLOW (v1.4)\n",
    "\n",
    "- ### Windows 10\n",
    "- ### Anaconda (python 3.6)\n",
    "- ### GPU version"
   ]
  },
  {
   "cell_type": "markdown",
   "metadata": {
    "slideshow": {
     "slide_type": "slide"
    }
   },
   "source": [
    "# Prerequisites\n",
    "\n",
    "- Nvidia GPU (GTX 650 or newer. The GTX1050ti is a good entry level choice)\n",
    "- Anaconda with python 3.6 (or 3.5)\n",
    "- CUDA Tool kit (version 8)\n",
    "- CuDNN (version 6.0)"
   ]
  },
  {
   "cell_type": "markdown",
   "metadata": {
    "slideshow": {
     "slide_type": "slide"
    }
   },
   "source": [
    "# Install CUDA Tool Kit\n",
    "\n",
    "- Download Version 8 here: https://developer.nvidia.com/cuda-downloads\n",
    "\n",
    "- Currently version 9 is not supported by Tensorflow 1.4"
   ]
  },
  {
   "cell_type": "markdown",
   "metadata": {
    "slideshow": {
     "slide_type": "slide"
    }
   },
   "source": [
    "# Set Your Environment Variables\n",
    "\n",
    "- Go to Start and Search \"environment variables\"\n",
    "- click the Environment Variables button\n",
    "- Click on the Path system variable and select edit\n",
    "- add the following paths\n",
    "    ```\n",
    "    C:\\Program Files\\NVIDIA GPU Computing Toolkit\\CUDA\\v8.0\\bin\n",
    "    C:\\Program Files\\NVIDIA GPU Computing Toolkit\\CUDA\\v8.0\\libnvvp\n",
    "    C:\\Program Files\\NVIDIA GPU Computing Toolkit\\CUDA\\v8.0\\extras\\CUPTI\\libx64\n",
    "    ```"
   ]
  },
  {
   "cell_type": "markdown",
   "metadata": {
    "slideshow": {
     "slide_type": "slide"
    }
   },
   "source": [
    "# Download CUDNN 6.0\n",
    "\n",
    "- go to https://developer.nvidia.com/rdp/cudnn-download\n",
    "- Create a user profile if needed\n",
    "- Select CUDNN 6.0 for CUDA tool kit 8.\n",
    "- Extract the zip file contents and place them somewhere (I chose my C drive)\n",
    "- Add a path to the bin folder. For example, min is the following\n",
    "    ```\n",
    "    C:\\cuda\\bin\n",
    "    ```"
   ]
  },
  {
   "cell_type": "markdown",
   "metadata": {
    "slideshow": {
     "slide_type": "slide"
    }
   },
   "source": [
    "# Update your GPU Driver\n",
    "\n",
    "- go to http://www.nvidia.com/Download/index.aspx\n",
    "- Select your GPU version to download\n",
    "- Install the driver"
   ]
  },
  {
   "cell_type": "markdown",
   "metadata": {
    "slideshow": {
     "slide_type": "slide"
    }
   },
   "source": [
    "# Install Anaconda (python 3.6 or 3.5)\n",
    "\n",
    "- If you don't have python installed, I reccommend using Anaconda (python 3.6 64bit)\n",
    "- Go to https://www.anaconda.com/download/\n",
    "- Choose python 3.6 (64bit) and install\n",
    "- Check the \"add python to your PATH\" option during the install"
   ]
  },
  {
   "cell_type": "markdown",
   "metadata": {
    "slideshow": {
     "slide_type": "slide"
    }
   },
   "source": [
    "# Install Tensorflow\n",
    "\n",
    "- open a CMD window and type the following command\n",
    "\n",
    "    ```\n",
    "    pip install --ignore-installed --upgrade tensorflow-gpu \n",
    "    ```"
   ]
  },
  {
   "cell_type": "markdown",
   "metadata": {
    "slideshow": {
     "slide_type": "slide"
    }
   },
   "source": [
    "# Test your Installation\n",
    "\n",
    "- open a CMD window and type\n",
    "    ```\n",
    "    python\n",
    "    ```\n",
    "- once the interpreter opens type the following\n",
    "\n",
    "    ```python\n",
    "    >>> import tensorflow as tf\n",
    "    >>> hello = tf.constant('Hello, TensorFlow!')\n",
    "    >>> sess = tf.Session()\n",
    "    >>> print(sess.run(hello)) \n",
    "    ```\n",
    "- the ouput should be\n",
    "\n",
    "    ```python\n",
    "    hello, TensorFlow!\n",
    "    ```"
   ]
  }
 ],
 "metadata": {
  "celltoolbar": "Slideshow",
  "kernelspec": {
   "display_name": "Python [conda root]",
   "language": "python",
   "name": "conda-root-py"
  },
  "language_info": {
   "codemirror_mode": {
    "name": "ipython",
    "version": 3
   },
   "file_extension": ".py",
   "mimetype": "text/x-python",
   "name": "python",
   "nbconvert_exporter": "python",
   "pygments_lexer": "ipython3",
   "version": "3.5.3"
  }
 },
 "nbformat": 4,
 "nbformat_minor": 2
}
